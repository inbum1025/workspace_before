{
 "cells": [
  {
   "cell_type": "code",
   "execution_count": null,
   "id": "b3068520-c8bd-4911-bcbf-eab43c733ce3",
   "metadata": {},
   "outputs": [],
   "source": [
    "\\\n"
   ]
  },
  {
   "cell_type": "code",
   "execution_count": null,
   "id": "769b4131-ee12-44c6-9952-e1aa292263d4",
   "metadata": {},
   "outputs": [],
   "source": []
  }
 ],
 "metadata": {
  "kernelspec": {
   "display_name": "Python 3 (ipykernel)",
   "language": "python",
   "name": "python3"
  },
  "language_info": {
   "codemirror_mode": {
    "name": "ipython",
    "version": 3
   },
   "file_extension": ".py",
   "mimetype": "text/x-python",
   "name": "python",
   "nbconvert_exporter": "python",
   "pygments_lexer": "ipython3",
   "version": "3.9.7"
  }
 },
 "nbformat": 4,
 "nbformat_minor": 5
}
